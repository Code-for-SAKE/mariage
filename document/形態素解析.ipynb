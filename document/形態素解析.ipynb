{
 "metadata": {
  "language_info": {
   "codemirror_mode": {
    "name": "ipython",
    "version": 3
   },
   "file_extension": ".py",
   "mimetype": "text/x-python",
   "name": "python",
   "nbconvert_exporter": "python",
   "pygments_lexer": "ipython3",
   "version": 3
  },
  "orig_nbformat": 4
 },
 "nbformat": 4,
 "nbformat_minor": 2,
 "cells": [
  {
   "source": [
    "## KIA 先端技術研究会2021 デモ"
   ],
   "cell_type": "markdown",
   "metadata": {}
  },
  {
   "cell_type": "code",
   "execution_count": null,
   "metadata": {},
   "outputs": [],
   "source": [
    "# MeCab\n",
    "!apt install aptitude swig\n",
    "!aptitude install mecab libmecab-dev mecab-ipadic-utf8 git make curl xz-utils file -y\n",
    "!pip install mecab-python3\n",
    "# NEologd\n",
    "!git clone --depth 1 https://github.com/neologd/mecab-ipadic-neologd.git\n",
    "!echo yes | mecab-ipadic-neologd/bin/install-mecab-ipadic-neologd -n -a\n"
   ]
  },
  {
   "cell_type": "code",
   "execution_count": null,
   "metadata": {},
   "outputs": [],
   "source": [
    "# MeCabの準備\n",
    "import MeCab\n",
    "import subprocess\n",
    "\n",
    "cmd = 'echo `mecab-config --dicdir`\"/mecab-ipadic-neologd\"'\n",
    "path = (subprocess.Popen(cmd, stdout=subprocess.PIPE,\n",
    "                           shell=True).communicate()[0]).decode('utf-8')\n",
    "# NEologdあり\n",
    "mn = MeCab.Tagger(\"-d {0}\".format(path))\n",
    "# NEologdなし\n",
    "m = MeCab.Tagger(\"\")"
   ]
  },
  {
   "cell_type": "code",
   "execution_count": null,
   "metadata": {},
   "outputs": [],
   "source": [
    "# 文書A「私は機械学習が好きです。」\n",
    "print(\"---------------------------------\")\n",
    "print(\"【NEologdなし】\")\n",
    "print(m.parse(\"私は機械学習が好きです。\"))\n",
    "print(\"---------------------------------\")\n",
    "print(\"【NEologdあり】\")\n",
    "print(mn.parse(\"私は機械学習が好きです。\"))"
   ]
  }
 ]
}